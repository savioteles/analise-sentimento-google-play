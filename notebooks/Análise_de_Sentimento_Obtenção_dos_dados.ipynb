{
  "nbformat": 4,
  "nbformat_minor": 0,
  "metadata": {
    "colab": {
      "provenance": []
    },
    "kernelspec": {
      "name": "python3",
      "display_name": "Python 3"
    },
    "gpuClass": "standard"
  },
  "cells": [
    {
      "cell_type": "markdown",
      "metadata": {
        "id": "y4ICpNayURhv"
      },
      "source": [
        "### Data Scraping\n",
        "Para fazer o scraping dos dados do Google Play Store, iremos utilizar a biblioteca [google-play-scraper](https://github.com/JoMingyu/google-play-scraper).\n",
        "\n",
        "Google-Play-Scraper fornece APIs para facilmente obter dados do Google Play Store utilizando Python sem dependências externas!"
      ]
    },
    {
      "cell_type": "markdown",
      "source": [
        "O primeiro passo é instalar a biblioteca:"
      ],
      "metadata": {
        "id": "mWYkqetEvTJK"
      }
    },
    {
      "cell_type": "code",
      "metadata": {
        "id": "hhjGIJPwT4jD"
      },
      "source": [
        "#Install Google play scraper: https://github.com/JoMingyu/google-play-scraper\n",
        "!pip install google_play_scraper"
      ],
      "execution_count": null,
      "outputs": []
    },
    {
      "cell_type": "markdown",
      "source": [
        "Vamos importar as bibliotecas que iremos utilizar para fazer o download e tratamento dos dados de reviews do Google Play Store:"
      ],
      "metadata": {
        "id": "rrrM4YKLvVxv"
      }
    },
    {
      "cell_type": "code",
      "metadata": {
        "id": "XE2MTH-7TvNm"
      },
      "source": [
        "import json\n",
        "import pandas as pd\n",
        "from tqdm import tqdm\n",
        "\n",
        "from pygments import highlight\n",
        "from pygments.lexers import JsonLexer\n",
        "from pygments.formatters import TerminalFormatter\n",
        "\n",
        "from google_play_scraper import Sort, reviews, app"
      ],
      "execution_count": null,
      "outputs": []
    },
    {
      "cell_type": "markdown",
      "metadata": {
        "id": "Ivhl7kSGUEGR"
      },
      "source": [
        "#### Aplicativos de Compra no Brasil\n",
        "\n",
        "Referência: https://www.appannie.com/\n",
        "\n",
        "Página: https://www.data.ai/pt/apps/google-play/top/downloads/brazil/shopping/android-all/?topchart=last-week\n",
        "\n",
        "1. Shopee ⇒ com.shopee.br\n",
        "\n",
        "2. Mercado Livre ⇒ com.mercadolibre\n",
        "\n",
        "3. Magalu ⇒ com.luizalabs.mlapp\n",
        "\n",
        "4. Americanas ⇒ com.b2w.americanas\n",
        "\n",
        "5. Amazon Shopping ⇒ com.amazon.mShop.android.shopping"
      ]
    },
    {
      "cell_type": "code",
      "metadata": {
        "id": "bNfxsZbfT1M8"
      },
      "source": [
        "apps_ids = ['com.shopee.br', 'com.mercadolibre', 'com.luizalabs.mlapp', 'com.b2w.americanas', 'com.amazon.mShop.android.shopping']"
      ],
      "execution_count": null,
      "outputs": []
    },
    {
      "cell_type": "markdown",
      "metadata": {
        "id": "lJcV4fGKWKub"
      },
      "source": [
        "Vamos realizar o scraping dados para cada app. Nesta etapa iremos obter informações gerais dos apps."
      ]
    },
    {
      "cell_type": "code",
      "metadata": {
        "id": "7KHikUDCWM0E"
      },
      "source": [
        "app_infos = []\n",
        "\n",
        "for ap in tqdm(apps_ids):\n",
        "    info = app(ap, lang='pt', country='br')\n",
        "    del info['comments']\n",
        "    app_infos.append(info)"
      ],
      "execution_count": null,
      "outputs": []
    },
    {
      "cell_type": "code",
      "metadata": {
        "id": "5oZHhlKmWN5Y"
      },
      "source": [
        "app_infos_df = pd.DataFrame(app_infos)\n",
        "app_infos_df"
      ],
      "execution_count": null,
      "outputs": []
    },
    {
      "cell_type": "markdown",
      "metadata": {
        "id": "o_Sbkh5NWe4E"
      },
      "source": [
        "#### Scraping reviews dos apps\n",
        "\n",
        "O objetivo é criar um dataset balanceado com o mesmo número de reviews para cada score (1-5). A análise de sentimento será realizada utilizando o seguinte critério:\n",
        "\n",
        "*   **Muito Negativo**: score 1\n",
        "*   **Negativo**: score 2\n",
        "*   **Neutro**: score 3\n",
        "*   **Positivo**: score 4\n",
        "*   **Muito Positivo**: score 5\n",
        "\n",
        "Para termos um dataset balanceado entre avaliações negativas, neutras e positivas, iremos selecionar uma amostra de 10 avaliações para cada score e aplicativo.\n",
        "\n",
        "Para cada app teremos 50 avaliações, sendo:\n",
        "* 25 avaliações dos comentários mais relevantes;\n",
        "* 25 avaliações dos comentários mais recentes;"
      ]
    },
    {
      "cell_type": "code",
      "metadata": {
        "id": "LskH3ZFPWfy3"
      },
      "source": [
        "app_reviews = []\n",
        "\n",
        "for ap in tqdm(apps_ids):\n",
        "    for score in list(range(1, 6)):\n",
        "        for sort_order in [Sort.MOST_RELEVANT, Sort.NEWEST]:\n",
        "            rvs, _ = reviews(\n",
        "                ap,\n",
        "                lang='pt',\n",
        "                country='br',\n",
        "                sort=sort_order,\n",
        "                count= 5,\n",
        "                filter_score_with=score\n",
        "            )\n",
        "            for r in rvs:\n",
        "                r['sortOrder'] = 'most_relevant' if sort_order == Sort.MOST_RELEVANT else 'newest'\n",
        "                r['appId'] = ap\n",
        "            app_reviews.extend(rvs)"
      ],
      "execution_count": null,
      "outputs": []
    },
    {
      "cell_type": "code",
      "metadata": {
        "id": "5hQjouWFWjQL"
      },
      "source": [
        "len(app_reviews)"
      ],
      "execution_count": null,
      "outputs": []
    },
    {
      "cell_type": "code",
      "metadata": {
        "id": "M6g1bxdjWrb7"
      },
      "source": [
        "app_reviews_df = pd.DataFrame(app_reviews)"
      ],
      "execution_count": null,
      "outputs": []
    },
    {
      "cell_type": "markdown",
      "source": [
        "## Distribuição dos reviews entre as classes de sentimentos\n",
        "Vamos validar se a distribuição está balanceada entre os scores:"
      ],
      "metadata": {
        "id": "VgyXlo68t7Az"
      }
    },
    {
      "cell_type": "code",
      "source": [
        "app_reviews_df.score.value_counts().plot(kind = 'bar')"
      ],
      "metadata": {
        "id": "PmK5LrTqOABi"
      },
      "execution_count": null,
      "outputs": []
    },
    {
      "cell_type": "markdown",
      "source": [
        "Agora iremos padronizar o dataset conforme previsto anteriormente:\n",
        "\n",
        "*   **Muito Negativo**: score 1\n",
        "*   **Negativo**: score 2\n",
        "*   **Neutro**: score 3\n",
        "*   **Positivo**: score 4\n",
        "*   **Muito Positivo**: score 5"
      ],
      "metadata": {
        "id": "24XBL1C3uBAj"
      }
    },
    {
      "cell_type": "code",
      "source": [
        "class_names = ['Muito Negativo', 'Negativo', 'Neutro', 'Positivo', 'Muito Positivo']\n",
        "def to_sentiment(rating):\n",
        "  return class_names[int(rating) - 1]\n",
        "\n",
        "# cria uma nova coluna 'sentiment' no dataframe\n",
        "app_reviews_df['sentiment'] = app_reviews_df.score.apply(to_sentiment)"
      ],
      "metadata": {
        "id": "HNXsuYTJtLtR"
      },
      "execution_count": null,
      "outputs": []
    },
    {
      "cell_type": "markdown",
      "source": [
        "Depois de criada a nova coluna 'sentiment', iremos avaliar se o dataset está balanceado entre as classes negative, neutral e positive."
      ],
      "metadata": {
        "id": "7CBN97_QuXUE"
      }
    },
    {
      "cell_type": "code",
      "source": [
        "app_reviews_df.sentiment.value_counts().plot(kind = 'bar')"
      ],
      "metadata": {
        "id": "9Vq_a0xRtVoh"
      },
      "execution_count": null,
      "outputs": []
    },
    {
      "cell_type": "markdown",
      "metadata": {
        "id": "U4FSjNC8WrB6"
      },
      "source": [
        "## Salvando o Dataframe em CSV\n",
        "**Armazenando** os reviews em um arquivo CSV."
      ]
    },
    {
      "cell_type": "code",
      "metadata": {
        "id": "s4BQ6l4ZXZas"
      },
      "source": [
        "app_reviews_df.to_csv('reviews.csv', index=None, header=True)"
      ],
      "execution_count": null,
      "outputs": []
    }
  ]
}